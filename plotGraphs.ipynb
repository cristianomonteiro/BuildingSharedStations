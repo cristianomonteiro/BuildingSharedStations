{
 "cells": [
  {
   "cell_type": "code",
   "execution_count": 1,
   "metadata": {},
   "outputs": [],
   "source": [
    "import os\n",
    "jdbcPathUbuntu = '/usr/share/java/postgresql-42.2.23.jar'\n",
    "jdbcPathMacOS = '/Users/cristianomartinsm/postgresql-42.2.23.jar'\n",
    "jdbcPath = jdbcPathUbuntu\n",
    "os.environ['PYSPARK_SUBMIT_ARGS'] = '--driver-class-path ' + jdbcPath + ' --jars ' + jdbcPath + ' pyspark-shell'\n",
    "import pandas as pd\n",
    "import databricks.koalas as ks\n",
    "from scipy import stats\n",
    "import matplotlib.pyplot as plt\n",
    "import numpy as np\n",
    "import json"
   ]
  },
  {
   "cell_type": "code",
   "execution_count": 2,
   "metadata": {},
   "outputs": [],
   "source": [
    "rootFolder = '/home/cristiano/Dropbox/UFMG/Cristiano/Doutorado/Segunda Etapa da Qualificação/OptimizingCarsharingStationsLocation/'\n",
    "folder = rootFolder + 'SASS/'\n",
    "\n",
    "dataList = list()\n",
    "for parameter in ['0', '0.5', '1', '1.5', '2', '2.5']:\n",
    "    for counter in range(1, 41):\n",
    "        fileName = folder + str(parameter) + '/' + str(counter) + '.json'\n",
    "        with open(fileName) as jsonFile:\n",
    "            optimalSolution = json.load(jsonFile)\n",
    "\n",
    "            dataList.append((parameter, optimalSolution[\"SolutionInfo\"][\"Runtime\"]))\n",
    "\n",
    "dataFrame = ks.DataFrame(data=dataList, dtype=float)\n",
    "dataList = None"
   ]
  },
  {
   "cell_type": "code",
   "execution_count": 3,
   "metadata": {},
   "outputs": [
    {
     "name": "stdout",
     "output_type": "stream",
     "text": [
      "             1                                                                                         \\\\\n",
      "         count         mean       std          min          25%          50%          75%          max \\\\\n",
      "0                                                                                                      \\\\\n",
      "0.0  & 40.0000    & 28.6212  & 0.0847    & 28.4838    & 28.5724    & 28.6027    & 28.6370    & 28.9554 \\\\\n",
      "2.5  & 40.0000  & 2304.2759  & 7.4962  & 2298.3011  & 2301.3499  & 2303.4058  & 2305.1011  & 2348.2902 \\\\\n",
      "1.0  & 40.0000   & 103.4426  & 0.1401   & 103.1448   & 103.3351   & 103.4565   & 103.5344   & 103.6803 \\\\\n",
      "0.5  & 40.0000    & 62.5565  & 1.1745    & 58.4579    & 62.7704    & 62.8842    & 62.9558    & 63.0650 \\\\\n",
      "2.0  & 40.0000   & 491.0741  & 0.5176   & 490.0947   & 490.6449   & 491.0775   & 491.3520   & 492.6777 \\\\\n",
      "1.5  & 40.0000   & 276.7426  & 0.2480   & 276.2869   & 276.5408   & 276.6664   & 276.8436   & 277.4649\n"
     ]
    },
    {
     "data": {
      "image/png": "[encoded data removed]",
      "text/plain": [
       "<Figure size 432x288 with 1 Axes>"
      ]
     },
     "metadata": {
      "needs_background": "light"
     },
     "output_type": "display_data"
    }
   ],
   "source": [
    "def formatFloat(value):\n",
    "    numDecimaPlaces = 4\n",
    "    return \" & \" + \"{:.{nDigits}f}\".format(value, nDigits=numDecimaPlaces)\n",
    "\n",
    "#print(dataFrame.groupby(by=0).describe())\n",
    "stringKdf = dataFrame.groupby(by=0).describe().to_string(float_format=formatFloat).replace(\"\\n\", \" \\\\\\\\\\n\")\n",
    "print(stringKdf)\n",
    "\n",
    "dataFramePD = dataFrame.to_pandas()\n",
    "ax = dataFramePD.boxplot(by=0, fontsize=16)\n",
    "#ax.set_yscale('log')\n",
    "fig = ax.get_figure()\n",
    "fig.suptitle('')\n",
    "ax.set_title('')\n",
    "ax.set_xlabel(\"Multiplier of Splits\", fontsize=16)\n",
    "ax.set_ylabel(\"Time (seconds)\", fontsize=16)\n",
    "ax.set_ylim([0, 2450])\n",
    "plt.savefig('SASSTimeSpentBoxplots.eps', format='eps', bbox_inches = \"tight\")\n",
    "plt.show()"
   ]
  },
  {
   "cell_type": "code",
   "execution_count": 4,
   "metadata": {},
   "outputs": [
    {
     "name": "stdout",
     "output_type": "stream",
     "text": [
      "p = 0.0928856\n",
      "The null hypothesis cannot be rejected\n"
     ]
    }
   ],
   "source": [
    "k2, p = stats.normaltest(dataFrame[dataFrame[0] == 2.0][1].to_numpy())\n",
    "alpha = 5e-2\n",
    "print(\"p = {:g}\".format(p))\n",
    "if p < alpha:  # null hypothesis: x comes from a normal distribution\n",
    "    print(\"The null hypothesis can be rejected\")\n",
    "else:\n",
    "    print(\"The null hypothesis cannot be rejected\")"
   ]
  },
  {
   "cell_type": "code",
   "execution_count": 5,
   "metadata": {},
   "outputs": [],
   "source": [
    "folder = rootFolder + 'SASS/'\n",
    "\n",
    "dataList = list()\n",
    "for parameter in ['0', '0.5', '1', '1.5', '2', '2.5']:\n",
    "    fileName = folder + str(parameter) + '/1.json'\n",
    "    with open(fileName) as jsonFile:\n",
    "        optimalSolution = json.load(jsonFile)\n",
    "\n",
    "        dataList.append((parameter, optimalSolution[\"SolutionInfo\"][\"ObjVal\"]))\n",
    "\n",
    "fileName = rootFolder + 'SASS_1_Thread/4/1.json'\n",
    "with open(fileName) as jsonFile:\n",
    "    optimalSolution = json.load(jsonFile)\n",
    "\n",
    "    dataList.append((4, optimalSolution[\"SolutionInfo\"][\"ObjVal\"]))\n",
    "\n",
    "fileName = rootFolder + 'SASS_1_Thread/9/result1.sol'\n",
    "with open(fileName) as file:\n",
    "    for line in file:\n",
    "        if line.startswith('# Objective value = '):\n",
    "            objectiveValue = line.split()[4]\n",
    "            dataList.append((9, objectiveValue))\n",
    "\n",
    "dataFrame = ks.DataFrame(data=dataList, dtype=float)\n",
    "dataList = None"
   ]
  },
  {
   "cell_type": "code",
   "execution_count": 6,
   "metadata": {},
   "outputs": [
    {
     "name": "stdout",
     "output_type": "stream",
     "text": [
      "            1                                                                                                                    \\\\\n",
      "        count              mean    std               min               25%               50%               75%               max \\\\\n",
      "0                                                                                                                                \\\\\n",
      "0.0  & 1.0000   & 93925353.8579  & nan   & 93925353.8579   & 93925353.8579   & 93925353.8579   & 93925353.8579   & 93925353.8579 \\\\\n",
      "2.5  & 1.0000  & 164008540.8018  & nan  & 164008540.8018  & 164008540.8018  & 164008540.8018  & 164008540.8018  & 164008540.8018 \\\\\n",
      "1.0  & 1.0000  & 135101066.9318  & nan  & 135101066.9318  & 135101066.9318  & 135101066.9318  & 135101066.9318  & 135101066.9318 \\\\\n",
      "4.0  & 1.0000  & 176816339.1290  & nan  & 176816339.1290  & 176816339.1290  & 176816339.1290  & 176816339.1290  & 176816339.1290 \\\\\n",
      "0.5  & 1.0000  & 114848601.1505  & nan  & 114848601.1505  & 114848601.1505  & 114848601.1505  & 114848601.1505  & 114848601.1505 \\\\\n",
      "2.0  & 1.0000  & 155835276.1709  & nan  & 155835276.1709  & 155835276.1709  & 155835276.1709  & 155835276.1709  & 155835276.1709 \\\\\n",
      "1.5  & 1.0000  & 145948200.1525  & nan  & 145948200.1525  & 145948200.1525  & 145948200.1525  & 145948200.1525  & 145948200.1525 \\\\\n",
      "9.0  & 1.0000  & 199910716.3860  & nan  & 199910716.3860  & 199910716.3860  & 199910716.3860  & 199910716.3860  & 199910716.3860\n"
     ]
    },
    {
     "data": {
      "image/png": "[encoded data removed]",
      "text/plain": [
       "<Figure size 432x288 with 1 Axes>"
      ]
     },
     "metadata": {
      "needs_background": "light"
     },
     "output_type": "display_data"
    }
   ],
   "source": [
    "#print(dataFrame.groupby(by=0).describe())\n",
    "stringKdf = dataFrame.groupby(by=0).describe().to_string(float_format=formatFloat).replace(\"\\n\", \" \\\\\\\\\\n\")\n",
    "print(stringKdf)\n",
    "\n",
    "dataFramePD = dataFrame.to_pandas()\n",
    "ax = dataFramePD.plot.scatter(x=0, y=1, s=50, fontsize=16, grid=True)\n",
    "ax.axhline(y=2.1911529462620056e+08, color='r', lw=2)\n",
    "ax.set_xlabel(\"Multiplier of Splits\", fontsize=16)\n",
    "ax.set_ylabel(\"Objective Value\", fontsize=16)\n",
    "ax.set_xticks([0, 1, 2, 4, 9])\n",
    "#ax.ticklabel_format(useOffset=False, style='plain')\n",
    "plt.savefig('ObjectiveValues.eps', format='eps', bbox_inches = \"tight\")\n",
    "plt.show()"
   ]
  },
  {
   "cell_type": "code",
   "execution_count": 7,
   "metadata": {},
   "outputs": [
    {
     "name": "stdout",
     "output_type": "stream",
     "text": [
      "71585\n"
     ]
    }
   ],
   "source": [
    "folder = rootFolder + 'SASS/'\n",
    "\n",
    "dataList = list()\n",
    "for parameter in ['0', '0.5', '1', '1.5', '2', '2.5', '4']:\n",
    "    for counter in range(1, 41):\n",
    "        if parameter is not '4':\n",
    "            fileName = folder + str(parameter) + '/' + str(counter) + '.json'\n",
    "        else:\n",
    "            fileName = rootFolder + 'SASS_1_Thread/4/1.json'\n",
    "\n",
    "        with open(fileName) as jsonFile:\n",
    "            optimalSolution = json.load(jsonFile)\n",
    "\n",
    "            counterSol = 0\n",
    "            for varSolution in optimalSolution[\"Vars\"]:\n",
    "                if round(float(varSolution[\"X\"])) == 1:\n",
    "                    counterSol += 1\n",
    "\n",
    "            dataList.append((parameter, counterSol))\n",
    "\n",
    "remainingFileNames = ['SASS_1_Thread/9/result1.sol', 'SSMS_1_Thread/finalResult.sol']\n",
    "for i in range(len(remainingFileNames)):\n",
    "    fileName = rootFolder + remainingFileNames[i]\n",
    "\n",
    "    with open(fileName) as file:\n",
    "        counterSol = 0\n",
    "        for line in file:\n",
    "            if not line.startswith('#') and not line.startswith('pos') and round(float(line.split()[1])) == 1:\n",
    "                counterSol += 1\n",
    "    \n",
    "    if i == 0:\n",
    "        dataList.append((9, counterSol))\n",
    "    else:\n",
    "        print(counterSol)\n",
    "\n",
    "dataFrame = ks.DataFrame(data=dataList, dtype=float)\n",
    "dataList = None"
   ]
  },
  {
   "cell_type": "code",
   "execution_count": 8,
   "metadata": {},
   "outputs": [
    {
     "name": "stdout",
     "output_type": "stream",
     "text": [
      "                 0                                                                       \\\\\n",
      "             count      mean       std       min       25%       50%       75%       max \\\\\n",
      "1                                                                                        \\\\\n",
      "50180.0  & 40.0000  & 2.0000  & 0.0000  & 2.0000  & 2.0000  & 2.0000  & 2.0000  & 2.0000 \\\\\n",
      "57152.0  & 40.0000  & 4.0000  & 0.0000  & 4.0000  & 4.0000  & 4.0000  & 4.0000  & 4.0000 \\\\\n",
      "34929.0  & 40.0000  & 0.5000  & 0.0000  & 0.5000  & 0.5000  & 0.5000  & 0.5000  & 0.5000 \\\\\n",
      "46113.0  & 40.0000  & 1.5000  & 0.0000  & 1.5000  & 1.5000  & 1.5000  & 1.5000  & 1.5000 \\\\\n",
      "26250.0  & 33.0000  & 0.0000  & 0.0000  & 0.0000  & 0.0000  & 0.0000  & 0.0000  & 0.0000 \\\\\n",
      "64669.0   & 1.0000  & 9.0000     & nan  & 9.0000  & 9.0000  & 9.0000  & 9.0000  & 9.0000 \\\\\n",
      "52620.0  & 40.0000  & 2.5000  & 0.0000  & 2.5000  & 2.5000  & 2.5000  & 2.5000  & 2.5000 \\\\\n",
      "42905.0  & 40.0000  & 1.0000  & 0.0000  & 1.0000  & 1.0000  & 1.0000  & 1.0000  & 1.0000 \\\\\n",
      "26257.0   & 7.0000  & 0.0000  & 0.0000  & 0.0000  & 0.0000  & 0.0000  & 0.0000  & 0.0000\n"
     ]
    },
    {
     "data": {
      "image/png": "[encoded data removed]",
      "text/plain": [
       "<Figure size 432x288 with 1 Axes>"
      ]
     },
     "metadata": {
      "needs_background": "light"
     },
     "output_type": "display_data"
    }
   ],
   "source": [
    "stringKdf = dataFrame.groupby(by=1).describe().to_string(float_format=formatFloat).replace(\"\\n\", \" \\\\\\\\\\n\")\n",
    "print(stringKdf)\n",
    "\n",
    "dataFramePD = dataFrame.to_pandas()\n",
    "ax = dataFramePD.plot.scatter(x=0, y=1, s=50, fontsize=16, grid=True)\n",
    "ax.axhline(y=counterSol, color='r', lw=2)\n",
    "ax.set_xlabel(\"Multiplier of Splits\", fontsize=16)\n",
    "ax.set_ylabel(\"Amount of Stations\", fontsize=16)\n",
    "ax.set_xticks([0, 1, 2, 4, 9])\n",
    "#ax.ticklabel_format(useOffset=False, style='plain')\n",
    "plt.savefig('AmountOfStations.eps', format='eps', bbox_inches = \"tight\")\n",
    "plt.show()"
   ]
  }
 ],
 "metadata": {
  "interpreter": {
   "hash": "b04396ebd4f74f170fc7886f30f673a7231b611b6a244b83ebde391c4c23e86b"
  },
  "kernelspec": {
   "display_name": "Python 3.7.4 ('base')",
   "language": "python",
   "name": "python3"
  },
  "language_info": {
   "codemirror_mode": {
    "name": "ipython",
    "version": 3
   },
   "file_extension": ".py",
   "mimetype": "text/x-python",
   "name": "python",
   "nbconvert_exporter": "python",
   "pygments_lexer": "ipython3",
   "version": "3.7.4"
  },
  "orig_nbformat": 4
 },
 "nbformat": 4,
 "nbformat_minor": 2
}
